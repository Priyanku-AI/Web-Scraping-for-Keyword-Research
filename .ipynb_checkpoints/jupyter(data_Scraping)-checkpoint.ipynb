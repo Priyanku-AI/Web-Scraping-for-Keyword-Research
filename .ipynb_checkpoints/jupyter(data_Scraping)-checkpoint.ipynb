{
 "cells": [
  {
   "cell_type": "code",
   "execution_count": 21,
   "id": "731d0373-3f5c-43ba-9c35-88f1e337a144",
   "metadata": {},
   "outputs": [
    {
     "name": "stdout",
     "output_type": "stream",
     "text": [
      "Defaulting to user installation because normal site-packages is not writeable\n",
      "Requirement already satisfied: selenium in /home/vamsi/.local/lib/python3.12/site-packages (4.20.0)\n",
      "Requirement already satisfied: urllib3[socks]<3,>=1.26 in /usr/lib/python3.12/site-packages (from selenium) (1.26.18)\n",
      "Requirement already satisfied: trio~=0.17 in /home/vamsi/.local/lib/python3.12/site-packages (from selenium) (0.25.0)\n",
      "Requirement already satisfied: trio-websocket~=0.9 in /home/vamsi/.local/lib/python3.12/site-packages (from selenium) (0.11.1)\n",
      "Requirement already satisfied: certifi>=2021.10.8 in /home/vamsi/.local/lib/python3.12/site-packages (from selenium) (2024.2.2)\n",
      "Requirement already satisfied: typing_extensions>=4.9.0 in /home/vamsi/.local/lib/python3.12/site-packages (from selenium) (4.11.0)\n",
      "Requirement already satisfied: attrs>=23.2.0 in /home/vamsi/.local/lib/python3.12/site-packages (from trio~=0.17->selenium) (23.2.0)\n",
      "Requirement already satisfied: sortedcontainers in /home/vamsi/.local/lib/python3.12/site-packages (from trio~=0.17->selenium) (2.4.0)\n",
      "Requirement already satisfied: idna in /usr/lib/python3.12/site-packages (from trio~=0.17->selenium) (3.4)\n",
      "Requirement already satisfied: outcome in /home/vamsi/.local/lib/python3.12/site-packages (from trio~=0.17->selenium) (1.3.0.post0)\n",
      "Requirement already satisfied: sniffio>=1.3.0 in /home/vamsi/.local/lib/python3.12/site-packages (from trio~=0.17->selenium) (1.3.1)\n",
      "Requirement already satisfied: wsproto>=0.14 in /home/vamsi/.local/lib/python3.12/site-packages (from trio-websocket~=0.9->selenium) (1.2.0)\n",
      "Requirement already satisfied: PySocks!=1.5.7,<2.0,>=1.5.6 in /usr/lib/python3.12/site-packages (from urllib3[socks]<3,>=1.26->selenium) (1.7.1)\n",
      "Requirement already satisfied: h11<1,>=0.9.0 in /home/vamsi/.local/lib/python3.12/site-packages (from wsproto>=0.14->trio-websocket~=0.9->selenium) (0.14.0)\n",
      "Note: you may need to restart the kernel to use updated packages.\n"
     ]
    }
   ],
   "source": [
    "pip install selenium"
   ]
  },
  {
   "cell_type": "code",
   "execution_count": 25,
   "id": "57e786a8-ae33-4608-af58-d7736cf2d88c",
   "metadata": {},
   "outputs": [
    {
     "name": "stdout",
     "output_type": "stream",
     "text": [
      "Defaulting to user installation because normal site-packages is not writeable\n",
      "Collecting webdriver_manager\n",
      "  Obtaining dependency information for webdriver_manager from https://files.pythonhosted.org/packages/b1/51/b5c11cf739ac4eecde611794a0ec9df420d0239d51e73bc19eb44f02b48b/webdriver_manager-4.0.1-py2.py3-none-any.whl.metadata\n",
      "  Downloading webdriver_manager-4.0.1-py2.py3-none-any.whl.metadata (12 kB)\n",
      "Requirement already satisfied: requests in /usr/lib/python3.12/site-packages (from webdriver_manager) (2.28.2)\n",
      "Collecting python-dotenv (from webdriver_manager)\n",
      "  Obtaining dependency information for python-dotenv from https://files.pythonhosted.org/packages/6a/3e/b68c118422ec867fa7ab88444e1274aa40681c606d59ac27de5a5588f082/python_dotenv-1.0.1-py3-none-any.whl.metadata\n",
      "  Downloading python_dotenv-1.0.1-py3-none-any.whl.metadata (23 kB)\n",
      "Requirement already satisfied: packaging in /usr/lib/python3.12/site-packages (from webdriver_manager) (23.1)\n",
      "Requirement already satisfied: charset-normalizer<4,>=2 in /usr/lib/python3.12/site-packages (from requests->webdriver_manager) (3.2.0)\n",
      "Requirement already satisfied: idna<4,>=2.5 in /usr/lib/python3.12/site-packages (from requests->webdriver_manager) (3.4)\n",
      "Requirement already satisfied: urllib3<1.27,>=1.21.1 in /usr/lib/python3.12/site-packages (from requests->webdriver_manager) (1.26.18)\n",
      "Downloading webdriver_manager-4.0.1-py2.py3-none-any.whl (27 kB)\n",
      "Downloading python_dotenv-1.0.1-py3-none-any.whl (19 kB)\n",
      "Installing collected packages: python-dotenv, webdriver_manager\n",
      "Successfully installed python-dotenv-1.0.1 webdriver_manager-4.0.1\n",
      "Note: you may need to restart the kernel to use updated packages.\n"
     ]
    }
   ],
   "source": [
    "pip install webdriver_manager"
   ]
  },
  {
   "cell_type": "code",
   "execution_count": 239,
   "id": "ac9cdb23-c749-4ce8-8f8b-d5b8d899f659",
   "metadata": {},
   "outputs": [],
   "source": [
    "from selenium import webdriver\n",
    "from selenium.webdriver.chrome.service import Service\n",
    "from selenium.webdriver.chrome.options import Options\n",
    "from webdriver_manager.chrome import ChromeDriverManager\n",
    "import pandas as pd\n",
    "from selenium.webdriver.common.by import By\n",
    "from selenium.webdriver.common.keys import Keys\n",
    "from selenium.webdriver.common.action_chains import ActionChains\n",
    "from selenium.common.exceptions import NoSuchElementException\n",
    "import time\n",
    "import os\n",
    "\n",
    "chrome_options = Options()\n",
    "#install chrome drive using manager\n",
    "driver = webdriver.Chrome(service=Service(ChromeDriverManager().install()), options=chrome_options)"
   ]
  },
  {
   "cell_type": "code",
   "execution_count": 240,
   "id": "08193078-942b-4d39-86f3-0c66a4746e1f",
   "metadata": {},
   "outputs": [],
   "source": [
    "driver.get(\"https://www.justdial.com/india/IT-Software-Development-Services?srcterm=IT%20Software%20Development%20Services&searchfrom=auto|b2b_prsltpg\")"
   ]
  },
  {
   "cell_type": "code",
   "execution_count": 241,
   "id": "22d7275b-7f73-473b-8295-3aaf16b393c1",
   "metadata": {},
   "outputs": [
    {
     "name": "stdout",
     "output_type": "stream",
     "text": [
      "Title: Zero Gravity Technology\n",
      "Contact: 07411714026\n",
      "Please include '0' when you call\n",
      "\n",
      "Title: RARR Technologies Pvt. Ltd.\n",
      "Contact: 07490090336\n",
      "\n",
      "Title: Mansi Software and Peripherals\n",
      "Contact: Show Number\n",
      "\n",
      "Title: Excellent Business Techsol Pvt Ltd\n",
      "Contact: 09845209297\n",
      "\n",
      "No title found for this result box. Skipping...\n",
      "Title: Pyzen Technologies Private Limited\n",
      "Contact: 09035272453\n",
      "\n",
      "Title: Probe Tech Computer Service\n",
      "Contact: 08105353665\n",
      "\n",
      "Title: 4techbugs Technologies Pvt Ltd\n",
      "Contact: 08735898677\n",
      "\n",
      "Title: Tweakhere Technocrat Pvt Ltd\n",
      "Contact: 08460500638\n",
      "\n",
      "Title: Cyber crescent\n",
      "Contact: 09035142654\n",
      "\n",
      "Title: Ashay Infotech\n",
      "Contact: 08123323068\n",
      "\n",
      "Title: Japman Technologies Pvt Ltd\n",
      "Contact: 07041899675\n",
      "\n"
     ]
    }
   ],
   "source": [
    "# Execute JavaScript to close the login popup\n",
    "driver.execute_script(\"document.querySelector('section.jdmart_modal.jdmart_login_pop.loginPop').style.display = 'none';\")\n",
    "\n",
    "# Find all result box elements\n",
    "result_boxes = driver.find_elements(By.CLASS_NAME, \"resultbox__info\")\n",
    "\n",
    "# Iterate through each result box\n",
    "for i, result_box in enumerate(result_boxes):\n",
    "    try:\n",
    "        # Extract title\n",
    "        title_element = result_box.find_element(By.TAG_NAME, \"h3\")\n",
    "        title = title_element.text\n",
    "\n",
    "        # Scroll to contact button\n",
    "        contact_button = result_box.find_element(By.XPATH, \".//button[contains(@class, 'resultbox__button')]\")\n",
    "        actions = ActionChains(driver)\n",
    "        actions.move_to_element(contact_button).perform()\n",
    "        time.sleep(1)  # Waiting for the contact button to fully appear\n",
    "\n",
    "        # Click the contact button\n",
    "        contact_button.click()\n",
    "\n",
    "        # Extract contact details\n",
    "        contact_element = driver.find_element(By.CLASS_NAME, f\"docidvn_{i}\")\n",
    "        contact = contact_element.text\n",
    "\n",
    "        print(\"Title:\", title)\n",
    "        print(\"Contact:\", contact)\n",
    "        print()  # Just to add a blank line between each result\n",
    "\n",
    "    except NoSuchElementException:\n",
    "        print(\"No title found for this result box. Skipping...\")\n",
    "        continue"
   ]
  },
  {
   "cell_type": "code",
   "execution_count": null,
   "id": "bbea15cb-813e-4444-b709-a91b319285e4",
   "metadata": {},
   "outputs": [],
   "source": []
  }
 ],
 "metadata": {
  "kernelspec": {
   "display_name": "Python 3",
   "language": "python",
   "name": "python3"
  },
  "language_info": {
   "codemirror_mode": {
    "name": "ipython",
    "version": 3
   },
   "file_extension": ".py",
   "mimetype": "text/x-python",
   "name": "python",
   "nbconvert_exporter": "python",
   "pygments_lexer": "ipython3",
   "version": "3.8.8"
  }
 },
 "nbformat": 4,
 "nbformat_minor": 5
}
