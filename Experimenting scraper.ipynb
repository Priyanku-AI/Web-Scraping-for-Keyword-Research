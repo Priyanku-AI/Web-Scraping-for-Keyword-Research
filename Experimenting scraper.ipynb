{
 "cells": [
  {
   "cell_type": "code",
   "execution_count": 1,
   "id": "9ee57ccb",
   "metadata": {},
   "outputs": [],
   "source": [
    "import pandas as pd"
   ]
  },
  {
   "cell_type": "code",
   "execution_count": 2,
   "id": "29dec101",
   "metadata": {},
   "outputs": [],
   "source": [
    "df = pd.read_excel(\"Company_names.xlsx\")"
   ]
  },
  {
   "cell_type": "code",
   "execution_count": 3,
   "id": "72039523",
   "metadata": {},
   "outputs": [
    {
     "data": {
      "text/html": [
       "<div>\n",
       "<style scoped>\n",
       "    .dataframe tbody tr th:only-of-type {\n",
       "        vertical-align: middle;\n",
       "    }\n",
       "\n",
       "    .dataframe tbody tr th {\n",
       "        vertical-align: top;\n",
       "    }\n",
       "\n",
       "    .dataframe thead th {\n",
       "        text-align: right;\n",
       "    }\n",
       "</style>\n",
       "<table border=\"1\" class=\"dataframe\">\n",
       "  <thead>\n",
       "    <tr style=\"text-align: right;\">\n",
       "      <th></th>\n",
       "      <th>Name</th>\n",
       "    </tr>\n",
       "  </thead>\n",
       "  <tbody>\n",
       "    <tr>\n",
       "      <th>0</th>\n",
       "      <td>Google</td>\n",
       "    </tr>\n",
       "    <tr>\n",
       "      <th>1</th>\n",
       "      <td>Microsoft</td>\n",
       "    </tr>\n",
       "  </tbody>\n",
       "</table>\n",
       "</div>"
      ],
      "text/plain": [
       "        Name\n",
       "0     Google\n",
       "1  Microsoft"
      ]
     },
     "execution_count": 3,
     "metadata": {},
     "output_type": "execute_result"
    }
   ],
   "source": [
    "df.head()"
   ]
  },
  {
   "cell_type": "code",
   "execution_count": 4,
   "id": "c616a0f1",
   "metadata": {},
   "outputs": [
    {
     "data": {
      "text/plain": [
       "Index(['Name'], dtype='object')"
      ]
     },
     "execution_count": 4,
     "metadata": {},
     "output_type": "execute_result"
    }
   ],
   "source": [
    "df.columns"
   ]
  },
  {
   "cell_type": "code",
   "execution_count": 5,
   "id": "cf9e6c81",
   "metadata": {},
   "outputs": [
    {
     "data": {
      "text/html": [
       "<div>\n",
       "<style scoped>\n",
       "    .dataframe tbody tr th:only-of-type {\n",
       "        vertical-align: middle;\n",
       "    }\n",
       "\n",
       "    .dataframe tbody tr th {\n",
       "        vertical-align: top;\n",
       "    }\n",
       "\n",
       "    .dataframe thead th {\n",
       "        text-align: right;\n",
       "    }\n",
       "</style>\n",
       "<table border=\"1\" class=\"dataframe\">\n",
       "  <thead>\n",
       "    <tr style=\"text-align: right;\">\n",
       "      <th></th>\n",
       "      <th>Name</th>\n",
       "    </tr>\n",
       "  </thead>\n",
       "  <tbody>\n",
       "    <tr>\n",
       "      <th>0</th>\n",
       "      <td>Google</td>\n",
       "    </tr>\n",
       "    <tr>\n",
       "      <th>1</th>\n",
       "      <td>Microsoft</td>\n",
       "    </tr>\n",
       "  </tbody>\n",
       "</table>\n",
       "</div>"
      ],
      "text/plain": [
       "        Name\n",
       "0     Google\n",
       "1  Microsoft"
      ]
     },
     "execution_count": 5,
     "metadata": {},
     "output_type": "execute_result"
    }
   ],
   "source": [
    "df.head(10)"
   ]
  },
  {
   "cell_type": "code",
   "execution_count": 1,
   "id": "e35041d5",
   "metadata": {},
   "outputs": [
    {
     "name": "stdout",
     "output_type": "stream",
     "text": [
      "[]\n",
      "[]\n"
     ]
    }
   ],
   "source": [
    "# Import necessary libraries\n",
    "from selenium import webdriver  # For automating web browser interactions\n",
    "from selenium.webdriver.common.by import By  # For locating elements on web pages\n",
    "from bs4 import BeautifulSoup  # For parsing HTML and XML documents\n",
    "import time  # For adding delays in the script\n",
    "import warnings  # For managing warning messages\n",
    "import pandas as pd  # For working with data in tabular format\n",
    "from tqdm import tqdm  # For displaying progress bars\n",
    "import csv  # For reading and writing CSV files\n",
    "import random  # For generating random numbers\n",
    "import datetime  # For working with dates and times\n",
    "\n",
    "# Ignore any warning messages\n",
    "warnings.filterwarnings(\"ignore\")\n",
    "\n",
    "# Read the Excel file containing company names into a DataFrame\n",
    "df = pd.read_excel(\"Company_names.xlsx\")\n",
    "\n",
    "# Display the first 10 rows of the DataFrame\n",
    "df.head(10)\n",
    "\n",
    "# Read the LinkedIn authentication information (li_at cookie) from a text file\n",
    "with open(\"config.txt\", 'r', encoding=\"utf-8\") as f1:\n",
    "    lines = f1.readlines()\n",
    "li_at = lines[0]\n",
    "\n",
    "# Define the LinkedIn cookie\n",
    "cookies = {\n",
    "    'name': 'li_at',\n",
    "    'value': li_at,\n",
    "    'domain': '.linkedin.com',\n",
    "}\n",
    "\n",
    "# Initialize a Chrome WebDriver\n",
    "driver = webdriver.Chrome()\n",
    "\n",
    "# Navigate to the LinkedIn login page\n",
    "driver.get(\"https://www.linkedin.com\")\n",
    "time.sleep(random.randint(60, 65))\n",
    "# Maximize the browser window\n",
    "driver.maximize_window()\n",
    "\n",
    "# Add the LinkedIn cookie to the WebDriver session\n",
    "driver.add_cookie(cookies)\n",
    "\n",
    "# Create an empty DataFrame to store company information\n",
    "transfer_sheet = pd.DataFrame(columns=[\"Company Name\", \"About\"])\n",
    "\n",
    "# Initialize a counter variable\n",
    "c = 0\n",
    "\n",
    "# Iterate through each company name in the DataFrame\n",
    "for cn in df[\"Name\"]:\n",
    "    # Construct the search URL for the company on LinkedIn\n",
    "    search_url = f\"https://www.linkedin.com/search/results/companies/?keywords={cn}&origin=SWITCH_SEARCH_VERTICAL&sid=7bb\"\n",
    "    \n",
    "    # Navigate to the search URL\n",
    "    driver.get(search_url)\n",
    "    \n",
    "    # Add a random delay to simulate human-like behavior\n",
    "    time.sleep(random.randint(2, 5))\n",
    "    \n",
    "    \n",
    "    # Find the first search result link for the company\n",
    "    jc = driver.find_elements(By.CSS_SELECTOR, \".reusable-search__result-container a.app-aware-link\")\n",
    "    elems = list(jc)\n",
    "    print(jc)"
   ]
  },
  {
   "cell_type": "code",
   "execution_count": null,
   "id": "3183fba0",
   "metadata": {},
   "outputs": [],
   "source": []
  }
 ],
 "metadata": {
  "kernelspec": {
   "display_name": "Python 3",
   "language": "python",
   "name": "python3"
  },
  "language_info": {
   "codemirror_mode": {
    "name": "ipython",
    "version": 3
   },
   "file_extension": ".py",
   "mimetype": "text/x-python",
   "name": "python",
   "nbconvert_exporter": "python",
   "pygments_lexer": "ipython3",
   "version": "3.8.8"
  }
 },
 "nbformat": 4,
 "nbformat_minor": 5
}
