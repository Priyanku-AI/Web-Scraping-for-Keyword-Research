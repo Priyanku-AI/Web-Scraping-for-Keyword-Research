{
 "cells": [
  {
   "cell_type": "code",
   "execution_count": 1,
   "metadata": {},
   "outputs": [],
   "source": [
    "#Import Packages\n",
    "from selenium import webdriver\n",
    "import time\n",
    "import pandas as pd\n",
    "import os"
   ]
  },
  {
   "cell_type": "code",
   "execution_count": 2,
   "metadata": {},
   "outputs": [],
   "source": [
    "#Import Packages\n",
    "\n",
    "from selenium.webdriver.support.select import Select\n",
    "from selenium.webdriver.support.ui import WebDriverWait\n",
    "from selenium.webdriver.common.by import By\n",
    "from selenium.webdriver.support import expected_conditions as EC"
   ]
  },
  {
   "cell_type": "code",
   "execution_count": 3,
   "metadata": {},
   "outputs": [],
   "source": [
    "#Use this Url and change city or role accordingly\n",
    "\n",
    "url1='https://www.linkedin.com/jobs/search?keywords=Marketing%20Data%20Analyst&location=Berlin%2C%20Berlin%2C%20Germany&geoId=106967730&trk=public_jobs_jobs-search-bar_search-submit&position=1&pageNum=0'"
   ]
  },
  {
   "cell_type": "code",
   "execution_count": 5,
   "metadata": {},
   "outputs": [],
   "source": [
    "#Load the web driver and get the url\n",
    "\n",
    "driver = webdriver.Chrome()\n",
    "driver.implicitly_wait(10)\n",
    "driver.get(url1)"
   ]
  },
  {
   "cell_type": "code",
   "execution_count": 7,
   "metadata": {},
   "outputs": [
    {
     "name": "stdout",
     "output_type": "stream",
     "text": [
      "173\n"
     ]
    }
   ],
   "source": [
    "# Find elements by class name\n",
    "elements = driver.find_elements(By.CLASS_NAME, 'results-context-header__job-count')\n",
    "\n",
    "# Get the text of the first element\n",
    "if elements:\n",
    "    y = elements[0].text\n",
    "    print(y)\n",
    "else:\n",
    "    print(\"No job count found.\")"
   ]
  },
  {
   "cell_type": "code",
   "execution_count": 8,
   "metadata": {},
   "outputs": [
    {
     "data": {
      "text/plain": [
       "str"
      ]
     },
     "execution_count": 8,
     "metadata": {},
     "output_type": "execute_result"
    }
   ],
   "source": [
    "type(y)"
   ]
  },
  {
   "cell_type": "code",
   "execution_count": 9,
   "metadata": {},
   "outputs": [],
   "source": [
    "n=pd.to_numeric(y)"
   ]
  },
  {
   "cell_type": "code",
   "execution_count": 10,
   "metadata": {},
   "outputs": [
    {
     "data": {
      "text/plain": [
       "173"
      ]
     },
     "execution_count": 10,
     "metadata": {},
     "output_type": "execute_result"
    }
   ],
   "source": [
    "n"
   ]
  },
  {
   "cell_type": "code",
   "execution_count": 11,
   "metadata": {},
   "outputs": [],
   "source": [
    "#Loop to scroll through all jobs and click on see more jobs button for infinite scrolling\n",
    "\n",
    "i = 2\n",
    "while i <= int((n+200)/25)+1: \n",
    "    driver.execute_script(\"window.scrollTo(0, document.body.scrollHeight);\")\n",
    "    i = i + 1\n",
    "    \n",
    "    try:\n",
    "        send=driver.find_element_by_xpath(\"//button[@aria-label='Load more results']\")\n",
    "        driver.execute_script(\"arguments[0].click();\", send)   \n",
    "        time.sleep(3)\n",
    "    \n",
    "        \n",
    "         #buu=driver.find_elements_by_tag_name(\"button\")\n",
    "         #x=[btn for btn in buu if btn.text==\"See more jobs\"]\n",
    "         #for btn in x:\n",
    "                #driver.execute_script(\"arguments[0].click();\", btn)\n",
    "                #time.sleep(3)\n",
    "        \n",
    "                                                 \n",
    "\n",
    "\n",
    "            \n",
    "    except:\n",
    "        pass\n",
    "        time.sleep(5)\n",
    "         "
   ]
  },
  {
   "cell_type": "code",
   "execution_count": 17,
   "metadata": {},
   "outputs": [
    {
     "name": "stdout",
     "output_type": "stream",
     "text": [
      "['FactoryPal', 'Zalando', 'Blinkist', 'Almedia', 'denkwerk GmbH', 'GetYourGuide', 'Capgemini', 'Navan', 'momox', 'momox', 'umaris GmbH & Co. KG', 'Deutsche Rentenversicherung Bund', 'umaris GmbH & Co. KG', 'Lovehoney Group', 'join.com', 'umaris GmbH & Co. KG', 'Instapro Group', 'umaris GmbH & Co. KG', 'KoRo', 'Instapro Group', 'Bausch + Lomb', 'The HEINEKEN Company', 'Peak Ace AG', 'KoRo', 'Adepto Technical Recruitment Limited', 'Agoda', 'ImmoScout24', 'simplesurance', 'Scout24 Group', 'ImmoScout24', 'flaconi', 'FLEX Capital', 'lawpilots', 'Enpal', 'HomeToGo', 'Verve Group', 'Experis Switzerland', 'Constellation Academy', 'Moyyn', 'Verve Group', 'msg', 'Aroundtown', 'Verivox GmbH', 'Kleinanzeigen', 'Vay', 'PŸUR | Tele Columbus', 'Workwise', 'Dabster', 'Lufthansa Industry Solutions', 'DEVK Versicherungen', 'Randstad Deutschland', 'Peak Ace AG', 'E.ON Digital Technology', 'LIQID', 'MediaMarktSaturn', 'IU International University of Applied Sciences', 'Selby Jennings']\n"
     ]
    }
   ],
   "source": [
    "# Find elements by class name\n",
    "elements = driver.find_elements(By.CLASS_NAME, 'base-search-card__subtitle')\n",
    "\n",
    "# Initialize an empty list to store company names\n",
    "company_names = []\n",
    "\n",
    "# Iterate through the found elements and append their text to the list\n",
    "for element in elements:\n",
    "    company_name = element.text\n",
    "    company_names.append(company_name)\n",
    "\n",
    "# Print the list of company names\n",
    "print(company_names)   "
   ]
  },
  {
   "cell_type": "code",
   "execution_count": 19,
   "metadata": {},
   "outputs": [
    {
     "data": {
      "text/plain": [
       "57"
      ]
     },
     "execution_count": 19,
     "metadata": {},
     "output_type": "execute_result"
    }
   ],
   "source": [
    "len(company_names)"
   ]
  },
  {
   "cell_type": "code",
   "execution_count": 21,
   "metadata": {},
   "outputs": [
    {
     "name": "stdout",
     "output_type": "stream",
     "text": [
      "['IIoT Business Data Analyst (m/f/d)', 'Marketing Analyst (Media Analytics) (all genders)', 'Digital Marketing Analyst', 'Junior Marketing Analyst (f/m/d)', 'Senior Data Analyst / Online Marketing (m/w/d)', 'Senior Data Analyst, Business Analytics (Supply Acquisition)', 'Business Analyst Data & AI Life Sciences (w/m/d)', 'Marketing Analyst', '(Senior) Marketing Analyst - CRM (m/f/d)', '(Senior) Marketing Analyst - CRM (m/f/d)', 'Big Data Analyst / Business Analyst (m/w/d)', 'Businessanalyst*in (m/w/div)', 'Big Data Analyst / Business Analyst (m/w/d)', '(Senior) Email Marketing Analyst', 'denkwerk GmbH: Senior Data Analyst / Online Marketing (m/w/d)', 'Big Data Analyst / Business Analyst (m/w/d)', 'Senior Analyst (Commercial & Marketplace)', 'Big Data Analyst / Business Analyst (m/w/d)', '(Senior) Marketing Analyst (m/f/d)', 'Senior Analyst (Commercial & Marketplace)', 'Market Analyst Pharma OTC (m/w/d)', 'Consumer Market Insights (CMI) Manager (f/m/d)', 'Digital Marketing Analyst (m/w/d)', '(Senior) Marketing Analyst (m/f/d)', 'Fully Remote Business Analyst - Logistics Experience', 'Business Data Analyst (Bangkok Based, relocation provided)', 'Senior Analyst (d/f/m) Marketing Science', 'Digital Business Analyst (all genders) - Berlin, Germany', 'Senior Analyst (d/f/m) Marketing Science', 'Senior Analyst (d/f/m) Marketing Science', 'Senior Marketing Analyst (m/f/d)', 'Business AnalystIn', 'Business AnalystIn', 'Business Analyst:in (w/m/d) People Projects', '[DE] SEA Performance Marketing Manager - Kurzurlaub [Berlin] (m/f/d)', 'Business Analyst (f/m/d)', 'Business Analyst Fokus KI', 'Professional Business Analyst mit Schwerpunkt KI', 'Business Analyst (m/w/d)-43_CL_27_2', 'Business Analyst CEO Office (w/m/d)', 'Business Consultant Data Architecture und Data Analysis Supply Solutions (m/w/d)', 'Business Analyst (m/f/d) PropTech & Innovation', 'Business Analyst Value Added Services (m/w/d)', 'Business Analyst - Maternity Cover (d/f/m)', 'Business Operations Analyst (Internship)', 'Business Analyst Consumer Sales (all genders)', 'Business Analyst - Low Code / Datenbanken / Schnittstellenentwicklung (m/w/d)', 'Business Analyst', 'Business Analyst (all genders) Digitalisierung', 'Duales Studium BWL/Versicherung B.A.', 'Business Analyst (m/w/d)', 'Senior Digital Marketing Analyst (m/w/d)', 'Business Analyst (f/m/d)', 'Business Analyst (d/m/w)', 'Business Analyst (m/w/d)', 'Business Analyst Salesforce (m/w/d)', 'Business Analyst (M/W/D) Banking']\n"
     ]
    }
   ],
   "source": [
    "# Find elements by class name\n",
    "elements = driver.find_elements(By.CLASS_NAME, 'base-search-card__title')\n",
    "\n",
    "# Initialize an empty list to store title names\n",
    "title_names = []\n",
    "\n",
    "# Iterate through the found elements and append their text to the list\n",
    "for element in elements:\n",
    "    title_name = element.text\n",
    "    title_names.append(title_name)\n",
    "\n",
    "# Print the list of title names\n",
    "print(title_names)   "
   ]
  },
  {
   "cell_type": "code",
   "execution_count": 22,
   "metadata": {},
   "outputs": [
    {
     "data": {
      "text/plain": [
       "57"
      ]
     },
     "execution_count": 22,
     "metadata": {},
     "output_type": "execute_result"
    }
   ],
   "source": [
    "len(title_names)"
   ]
  },
  {
   "cell_type": "code",
   "execution_count": 23,
   "metadata": {},
   "outputs": [],
   "source": [
    "#Create dataframe for company name and title\n",
    "\n",
    "companyfinal=pd.DataFrame(companyname,columns=[\"company\"])\n",
    "titlefinal=pd.DataFrame(titlename,columns=[\"title\"])"
   ]
  },
  {
   "cell_type": "code",
   "execution_count": 24,
   "metadata": {},
   "outputs": [],
   "source": [
    "#Join the two lists\n",
    "\n",
    "x=companyfinal.join(titlefinal)"
   ]
  },
  {
   "cell_type": "code",
   "execution_count": 25,
   "metadata": {},
   "outputs": [
    {
     "data": {
      "text/html": [
       "<div>\n",
       "<style scoped>\n",
       "    .dataframe tbody tr th:only-of-type {\n",
       "        vertical-align: middle;\n",
       "    }\n",
       "\n",
       "    .dataframe tbody tr th {\n",
       "        vertical-align: top;\n",
       "    }\n",
       "\n",
       "    .dataframe thead th {\n",
       "        text-align: right;\n",
       "    }\n",
       "</style>\n",
       "<table border=\"1\" class=\"dataframe\">\n",
       "  <thead>\n",
       "    <tr style=\"text-align: right;\">\n",
       "      <th></th>\n",
       "      <th>company</th>\n",
       "      <th>title</th>\n",
       "    </tr>\n",
       "  </thead>\n",
       "  <tbody>\n",
       "  </tbody>\n",
       "</table>\n",
       "</div>"
      ],
      "text/plain": [
       "Empty DataFrame\n",
       "Columns: [company, title]\n",
       "Index: []"
      ]
     },
     "execution_count": 25,
     "metadata": {},
     "output_type": "execute_result"
    }
   ],
   "source": [
    "x"
   ]
  },
  {
   "cell_type": "code",
   "execution_count": 26,
   "metadata": {},
   "outputs": [],
   "source": [
    "#Save file in your directory\n",
    "\n",
    "x.to_csv('linkedin.csv')"
   ]
  },
  {
   "cell_type": "code",
   "execution_count": 28,
   "metadata": {},
   "outputs": [],
   "source": [
    "\n",
    "#Find job links and append it to a list\n",
    "jobList = driver.find_elements(By.CLASS_NAME, 'base-card__full-link')\n",
    "hrefList = []\n",
    "for e in jobList:\n",
    "    hrefList.append(e.get_attribute('href'))\n",
    "\n",
    "#for href in hrefList:\n",
    "    #link.append(href)\n",
    "    "
   ]
  },
  {
   "cell_type": "code",
   "execution_count": 29,
   "metadata": {},
   "outputs": [
    {
     "data": {
      "text/plain": [
       "['https://de.linkedin.com/jobs/view/iiot-business-data-analyst-m-f-d-at-factorypal-3915725444?position=1&pageNum=0&refId=FgmS%2FCdkXPBvlwY2QOsiiA%3D%3D&trackingId=zV9VMf0h6xucoKryj%2B%2BsYA%3D%3D&trk=public_jobs_jserp-result_search-card',\n",
       " 'https://de.linkedin.com/jobs/view/marketing-analyst-media-analytics-all-genders-at-zalando-3913343050?position=2&pageNum=0&refId=FgmS%2FCdkXPBvlwY2QOsiiA%3D%3D&trackingId=N78PRqv8TOTYA6xPfz%2BdjQ%3D%3D&trk=public_jobs_jserp-result_search-card',\n",
       " 'https://de.linkedin.com/jobs/view/digital-marketing-analyst-at-blinkist-3909197700?position=3&pageNum=0&refId=FgmS%2FCdkXPBvlwY2QOsiiA%3D%3D&trackingId=mlJzFHesScLgpKwYTD702w%3D%3D&trk=public_jobs_jserp-result_search-card',\n",
       " 'https://de.linkedin.com/jobs/view/junior-marketing-analyst-f-m-d-at-almedia-3891670389?position=4&pageNum=0&refId=FgmS%2FCdkXPBvlwY2QOsiiA%3D%3D&trackingId=Ljx0SYogRO6B17XsK7nKsA%3D%3D&trk=public_jobs_jserp-result_search-card',\n",
       " 'https://de.linkedin.com/jobs/view/senior-data-analyst-online-marketing-m-w-d-at-denkwerk-gmbh-3909675559?position=5&pageNum=0&refId=FgmS%2FCdkXPBvlwY2QOsiiA%3D%3D&trackingId=PAFmBbMcPaKr8pYQ6QFspg%3D%3D&trk=public_jobs_jserp-result_search-card',\n",
       " 'https://de.linkedin.com/jobs/view/senior-data-analyst-business-analytics-supply-acquisition-at-getyourguide-3857987085?position=6&pageNum=0&refId=FgmS%2FCdkXPBvlwY2QOsiiA%3D%3D&trackingId=dYJ4by%2FLjwWyPHUKKCOq5A%3D%3D&trk=public_jobs_jserp-result_search-card',\n",
       " 'https://de.linkedin.com/jobs/view/business-analyst-data-ai-life-sciences-w-m-d-at-capgemini-3760808449?position=7&pageNum=0&refId=FgmS%2FCdkXPBvlwY2QOsiiA%3D%3D&trackingId=4bxSymGAcmgNV1hZh5%2ByQw%3D%3D&trk=public_jobs_jserp-result_search-card',\n",
       " 'https://de.linkedin.com/jobs/view/marketing-analyst-at-navan-3915934229?position=8&pageNum=0&refId=FgmS%2FCdkXPBvlwY2QOsiiA%3D%3D&trackingId=h1D0r1gU2u5PSJhEeLLFWQ%3D%3D&trk=public_jobs_jserp-result_search-card',\n",
       " 'https://de.linkedin.com/jobs/view/senior-marketing-analyst-crm-m-f-d-at-momox-3918156821?position=9&pageNum=0&refId=FgmS%2FCdkXPBvlwY2QOsiiA%3D%3D&trackingId=ZwJVfmEpMX%2FXvN8YSoWJKw%3D%3D&trk=public_jobs_jserp-result_search-card',\n",
       " 'https://de.linkedin.com/jobs/view/senior-marketing-analyst-crm-m-f-d-at-momox-3864883525?position=10&pageNum=0&refId=FgmS%2FCdkXPBvlwY2QOsiiA%3D%3D&trackingId=dcz0dKh2mRIufc7uuB47TQ%3D%3D&trk=public_jobs_jserp-result_search-card',\n",
       " 'https://de.linkedin.com/jobs/view/businessanalyst-in-m-w-div-at-deutsche-rentenversicherung-bund-3706794548?position=12&pageNum=0&refId=FgmS%2FCdkXPBvlwY2QOsiiA%3D%3D&trackingId=gWcWsobAUgDTEP4P18O8Lw%3D%3D&trk=public_jobs_jserp-result_search-card',\n",
       " 'https://de.linkedin.com/jobs/view/senior-email-marketing-analyst-at-lovehoney-group-3879829277?position=14&pageNum=0&refId=FgmS%2FCdkXPBvlwY2QOsiiA%3D%3D&trackingId=CG0%2BMicJoNA0nM0wcHGzjQ%3D%3D&trk=public_jobs_jserp-result_search-card',\n",
       " 'https://de.linkedin.com/jobs/view/denkwerk-gmbh-senior-data-analyst-online-marketing-m-w-d-at-join-com-3835585043?position=15&pageNum=0&refId=FgmS%2FCdkXPBvlwY2QOsiiA%3D%3D&trackingId=EMFkkx2wqGHnoZXGYvcEWA%3D%3D&trk=public_jobs_jserp-result_search-card',\n",
       " 'https://de.linkedin.com/jobs/view/senior-analyst-commercial-marketplace-at-instapro-group-3913331034?position=17&pageNum=0&refId=FgmS%2FCdkXPBvlwY2QOsiiA%3D%3D&trackingId=9QSQijf%2FMNzIiBU%2BaWyWZw%3D%3D&trk=public_jobs_jserp-result_search-card',\n",
       " 'https://de.linkedin.com/jobs/view/senior-marketing-analyst-m-f-d-at-koro-3862273814?position=19&pageNum=0&refId=FgmS%2FCdkXPBvlwY2QOsiiA%3D%3D&trackingId=Ltu4cpGRgjXt5gqsojISgQ%3D%3D&trk=public_jobs_jserp-result_search-card',\n",
       " 'https://de.linkedin.com/jobs/view/senior-analyst-commercial-marketplace-at-instapro-group-3918345917?position=20&pageNum=0&refId=FgmS%2FCdkXPBvlwY2QOsiiA%3D%3D&trackingId=OEEr%2FIwwLltc303JHLc5Bw%3D%3D&trk=public_jobs_jserp-result_search-card',\n",
       " 'https://de.linkedin.com/jobs/view/market-analyst-pharma-otc-m-w-d-at-bausch-%2B-lomb-3909590063?position=21&pageNum=0&refId=FgmS%2FCdkXPBvlwY2QOsiiA%3D%3D&trackingId=5f6I1PCoKBlQiZB3HLZ8Qg%3D%3D&trk=public_jobs_jserp-result_search-card',\n",
       " 'https://de.linkedin.com/jobs/view/consumer-market-insights-cmi-manager-f-m-d-at-the-heineken-company-3909782977?position=22&pageNum=0&refId=FgmS%2FCdkXPBvlwY2QOsiiA%3D%3D&trackingId=F5KL3gXDT7sLbzYU1AWCkQ%3D%3D&trk=public_jobs_jserp-result_search-card',\n",
       " 'https://de.linkedin.com/jobs/view/digital-marketing-analyst-m-w-d-at-peak-ace-ag-3868882698?position=23&pageNum=0&refId=FgmS%2FCdkXPBvlwY2QOsiiA%3D%3D&trackingId=8FJsi5Y8XY5WFjR2Lo3e0w%3D%3D&trk=public_jobs_jserp-result_search-card',\n",
       " 'https://de.linkedin.com/jobs/view/senior-marketing-analyst-m-f-d-at-koro-3848350975?position=24&pageNum=0&refId=FgmS%2FCdkXPBvlwY2QOsiiA%3D%3D&trackingId=19mntbUKE%2BCuS7VFmnIrNw%3D%3D&trk=public_jobs_jserp-result_search-card',\n",
       " 'https://de.linkedin.com/jobs/view/fully-remote-business-analyst-logistics-experience-at-adepto-technical-recruitment-limited-3891680353?position=25&pageNum=0&refId=FgmS%2FCdkXPBvlwY2QOsiiA%3D%3D&trackingId=y0%2FGIebuM9PHNoTCtN%2FAaw%3D%3D&trk=public_jobs_jserp-result_search-card',\n",
       " 'https://de.linkedin.com/jobs/view/business-data-analyst-bangkok-based-relocation-provided-at-agoda-3748495136?position=26&pageNum=0&refId=FgmS%2FCdkXPBvlwY2QOsiiA%3D%3D&trackingId=WMRM4CShvOoVCIkfPcvuwA%3D%3D&trk=public_jobs_jserp-result_search-card',\n",
       " 'https://de.linkedin.com/jobs/view/senior-analyst-d-f-m-marketing-science-at-immoscout24-3916687853?position=27&pageNum=0&refId=FgmS%2FCdkXPBvlwY2QOsiiA%3D%3D&trackingId=8lDGvGwebtf2shzSKqVixw%3D%3D&trk=public_jobs_jserp-result_search-card',\n",
       " 'https://de.linkedin.com/jobs/view/digital-business-analyst-all-genders-berlin-germany-at-simplesurance-3825015358?position=28&pageNum=0&refId=FgmS%2FCdkXPBvlwY2QOsiiA%3D%3D&trackingId=n90wyjCrBysang%2BtW52d%2FQ%3D%3D&trk=public_jobs_jserp-result_search-card',\n",
       " 'https://de.linkedin.com/jobs/view/senior-analyst-d-f-m-marketing-science-at-scout24-group-3848212020?position=29&pageNum=0&refId=FgmS%2FCdkXPBvlwY2QOsiiA%3D%3D&trackingId=%2Fb0ig8jMRLoj1rhBanM6pg%3D%3D&trk=public_jobs_jserp-result_search-card',\n",
       " 'https://de.linkedin.com/jobs/view/senior-analyst-d-f-m-marketing-science-at-immoscout24-3851296098?position=30&pageNum=0&refId=FgmS%2FCdkXPBvlwY2QOsiiA%3D%3D&trackingId=%2BdbtzUFS3O418ZzsD8h%2Flw%3D%3D&trk=public_jobs_jserp-result_search-card',\n",
       " 'https://de.linkedin.com/jobs/view/senior-marketing-analyst-m-f-d-at-flaconi-3849624664?position=31&pageNum=0&refId=FgmS%2FCdkXPBvlwY2QOsiiA%3D%3D&trackingId=iBBYuvTG6J%2F3nBNJa7gdow%3D%3D&trk=public_jobs_jserp-result_search-card',\n",
       " 'https://de.linkedin.com/jobs/view/business-analystin-at-flex-capital-3906646208?position=32&pageNum=0&refId=FgmS%2FCdkXPBvlwY2QOsiiA%3D%3D&trackingId=vX8K%2FI6DcAz6FnPLSQ%2BzXQ%3D%3D&trk=public_jobs_jserp-result_search-card',\n",
       " 'https://de.linkedin.com/jobs/view/business-analystin-at-lawpilots-3870519362?position=33&pageNum=0&refId=FgmS%2FCdkXPBvlwY2QOsiiA%3D%3D&trackingId=lAVNuYTdS75emsY4fAvKiA%3D%3D&trk=public_jobs_jserp-result_search-card',\n",
       " 'https://de.linkedin.com/jobs/view/business-analyst-in-w-m-d-people-projects-at-enpal-3916078612?position=34&pageNum=0&refId=FgmS%2FCdkXPBvlwY2QOsiiA%3D%3D&trackingId=WEzf28IlcXbOs2A7LxnJHw%3D%3D&trk=public_jobs_jserp-result_search-card',\n",
       " 'https://de.linkedin.com/jobs/view/de-sea-performance-marketing-manager-kurzurlaub-berlin-m-f-d-at-hometogo-3844331575?position=35&pageNum=0&refId=FgmS%2FCdkXPBvlwY2QOsiiA%3D%3D&trackingId=wBsYsQvDasP60381ji0PGg%3D%3D&trk=public_jobs_jserp-result_search-card',\n",
       " 'https://de.linkedin.com/jobs/view/business-analyst-f-m-d-at-verve-group-3889887114?position=36&pageNum=0&refId=FgmS%2FCdkXPBvlwY2QOsiiA%3D%3D&trackingId=M0gMubCsNyg6xKwuB%2F49TA%3D%3D&trk=public_jobs_jserp-result_search-card',\n",
       " 'https://de.linkedin.com/jobs/view/business-analyst-fokus-ki-at-experis-switzerland-3915418983?position=37&pageNum=0&refId=FgmS%2FCdkXPBvlwY2QOsiiA%3D%3D&trackingId=ggAlmf9%2FFs1%2FyNadoLnJCg%3D%3D&trk=public_jobs_jserp-result_search-card',\n",
       " 'https://de.linkedin.com/jobs/view/professional-business-analyst-mit-schwerpunkt-ki-at-constellation-academy-3906482695?position=38&pageNum=0&refId=FgmS%2FCdkXPBvlwY2QOsiiA%3D%3D&trackingId=crcMWxuAjd3HjpMUal0Wow%3D%3D&trk=public_jobs_jserp-result_search-card',\n",
       " 'https://de.linkedin.com/jobs/view/business-analyst-m-w-d-43-cl-27-2-at-moyyn-3587529775?position=39&pageNum=0&refId=FgmS%2FCdkXPBvlwY2QOsiiA%3D%3D&trackingId=OH6%2B9idI2JvGSLyWjdovXw%3D%3D&trk=public_jobs_jserp-result_search-card',\n",
       " 'https://de.linkedin.com/jobs/view/business-analyst-ceo-office-w-m-d-at-verve-group-3889885217?position=40&pageNum=0&refId=FgmS%2FCdkXPBvlwY2QOsiiA%3D%3D&trackingId=SNOVL%2BXREJI3fzNZllAFvQ%3D%3D&trk=public_jobs_jserp-result_search-card',\n",
       " 'https://de.linkedin.com/jobs/view/business-consultant-data-architecture-und-data-analysis-supply-solutions-m-w-d-at-msg-3683743082?position=41&pageNum=0&refId=FgmS%2FCdkXPBvlwY2QOsiiA%3D%3D&trackingId=nCNTuxq2aOKW7h0n0mt6Ww%3D%3D&trk=public_jobs_jserp-result_search-card',\n",
       " 'https://de.linkedin.com/jobs/view/business-analyst-m-f-d-proptech-innovation-at-aroundtown-3844887960?position=42&pageNum=0&refId=FgmS%2FCdkXPBvlwY2QOsiiA%3D%3D&trackingId=7Q0Y4CEYqFTvSkJE3%2FwNYA%3D%3D&trk=public_jobs_jserp-result_search-card',\n",
       " 'https://de.linkedin.com/jobs/view/business-analyst-value-added-services-m-w-d-at-verivox-gmbh-3808136547?position=43&pageNum=0&refId=FgmS%2FCdkXPBvlwY2QOsiiA%3D%3D&trackingId=8V13kNAUwQx9%2B4pWcoxSYA%3D%3D&trk=public_jobs_jserp-result_search-card',\n",
       " 'https://de.linkedin.com/jobs/view/business-analyst-maternity-cover-d-f-m-at-kleinanzeigen-3917116778?position=44&pageNum=0&refId=FgmS%2FCdkXPBvlwY2QOsiiA%3D%3D&trackingId=uEeLnX%2FkIFw9JNApuSljFg%3D%3D&trk=public_jobs_jserp-result_search-card',\n",
       " 'https://de.linkedin.com/jobs/view/business-operations-analyst-internship-at-vay-3912838777?position=45&pageNum=0&refId=FgmS%2FCdkXPBvlwY2QOsiiA%3D%3D&trackingId=x2iU3s1AJhHoA1oy3emRdg%3D%3D&trk=public_jobs_jserp-result_search-card',\n",
       " 'https://de.linkedin.com/jobs/view/business-analyst-consumer-sales-all-genders-at-p%C3%BFur-tele-columbus-3886240655?position=46&pageNum=0&refId=FgmS%2FCdkXPBvlwY2QOsiiA%3D%3D&trackingId=jgUEhebn6FV1u6Jly669uA%3D%3D&trk=public_jobs_jserp-result_search-card',\n",
       " 'https://de.linkedin.com/jobs/view/business-analyst-low-code-datenbanken-schnittstellenentwicklung-m-w-d-at-workwise-3903190289?position=47&pageNum=0&refId=FgmS%2FCdkXPBvlwY2QOsiiA%3D%3D&trackingId=n1ZGEpp6OAY4o3aBgdKPow%3D%3D&trk=public_jobs_jserp-result_search-card',\n",
       " 'https://de.linkedin.com/jobs/view/business-analyst-at-dabster-3818819649?position=48&pageNum=0&refId=FgmS%2FCdkXPBvlwY2QOsiiA%3D%3D&trackingId=h8swmBglFmgjb0zuQrU%2Fdg%3D%3D&trk=public_jobs_jserp-result_search-card',\n",
       " 'https://de.linkedin.com/jobs/view/business-analyst-all-genders-digitalisierung-at-lufthansa-industry-solutions-3827088238?position=49&pageNum=0&refId=FgmS%2FCdkXPBvlwY2QOsiiA%3D%3D&trackingId=uppYs4UAwzDLWgUteaRlcQ%3D%3D&trk=public_jobs_jserp-result_search-card',\n",
       " 'https://de.linkedin.com/jobs/view/duales-studium-bwl-versicherung-b-a-at-devk-versicherungen-3708928337?position=50&pageNum=0&refId=FgmS%2FCdkXPBvlwY2QOsiiA%3D%3D&trackingId=1d9Xt0oAJI1RKeWYMDGI8g%3D%3D&trk=public_jobs_jserp-result_search-card',\n",
       " 'https://de.linkedin.com/jobs/view/business-analyst-m-w-d-at-randstad-deutschland-3909452658?position=51&pageNum=0&refId=FgmS%2FCdkXPBvlwY2QOsiiA%3D%3D&trackingId=i0pabKu8S1bmIRnJx2bNTw%3D%3D&trk=public_jobs_jserp-result_search-card',\n",
       " 'https://de.linkedin.com/jobs/view/senior-digital-marketing-analyst-m-w-d-at-peak-ace-ag-3903432614?position=52&pageNum=0&refId=FgmS%2FCdkXPBvlwY2QOsiiA%3D%3D&trackingId=I7shSj5qPUygLY7M%2F76vog%3D%3D&trk=public_jobs_jserp-result_search-card',\n",
       " 'https://de.linkedin.com/jobs/view/business-analyst-f-m-d-at-e-on-digital-technology-3889445542?position=53&pageNum=0&refId=FgmS%2FCdkXPBvlwY2QOsiiA%3D%3D&trackingId=3YUoCuAq8CKkZtvVY2cb6g%3D%3D&trk=public_jobs_jserp-result_search-card',\n",
       " 'https://de.linkedin.com/jobs/view/business-analyst-d-m-w-at-liqid-3911482653?position=54&pageNum=0&refId=FgmS%2FCdkXPBvlwY2QOsiiA%3D%3D&trackingId=aQwUBo0RVzSw8CWu2sUMOg%3D%3D&trk=public_jobs_jserp-result_search-card',\n",
       " 'https://de.linkedin.com/jobs/view/business-analyst-m-w-d-at-mediamarktsaturn-3801293970?position=55&pageNum=0&refId=FgmS%2FCdkXPBvlwY2QOsiiA%3D%3D&trackingId=iy2M7qkPvlGdMuTuFe90gQ%3D%3D&trk=public_jobs_jserp-result_search-card',\n",
       " 'https://de.linkedin.com/jobs/view/business-analyst-salesforce-m-w-d-at-iu-international-university-of-applied-sciences-3905893126?position=56&pageNum=0&refId=FgmS%2FCdkXPBvlwY2QOsiiA%3D%3D&trackingId=DPGwjadyrbcQx8lXc4Kv8g%3D%3D&trk=public_jobs_jserp-result_search-card',\n",
       " 'https://de.linkedin.com/jobs/view/business-analyst-m-w-d-banking-at-selby-jennings-3901097946?position=57&pageNum=0&refId=FgmS%2FCdkXPBvlwY2QOsiiA%3D%3D&trackingId=OamBXqZXIpmzFdLumI9xAA%3D%3D&trk=public_jobs_jserp-result_search-card']"
      ]
     },
     "execution_count": 29,
     "metadata": {},
     "output_type": "execute_result"
    }
   ],
   "source": [
    "hrefList"
   ]
  },
  {
   "cell_type": "code",
   "execution_count": 30,
   "metadata": {},
   "outputs": [],
   "source": [
    "linklist=pd.DataFrame(hrefList,columns=[\"joblinks\"])\n"
   ]
  },
  {
   "cell_type": "code",
   "execution_count": 31,
   "metadata": {},
   "outputs": [],
   "source": [
    "linklist.to_csv('linkedinlinks.csv')"
   ]
  },
  {
   "cell_type": "code",
   "execution_count": 32,
   "metadata": {},
   "outputs": [],
   "source": [
    "#Close the driver\n",
    "\n",
    "driver.close()"
   ]
  },
  {
   "cell_type": "code",
   "execution_count": 25,
   "metadata": {},
   "outputs": [],
   "source": []
  },
  {
   "cell_type": "code",
   "execution_count": 26,
   "metadata": {},
   "outputs": [],
   "source": []
  }
 ],
 "metadata": {
  "kernelspec": {
   "display_name": "Python 3",
   "language": "python",
   "name": "python3"
  },
  "language_info": {
   "codemirror_mode": {
    "name": "ipython",
    "version": 3
   },
   "file_extension": ".py",
   "mimetype": "text/x-python",
   "name": "python",
   "nbconvert_exporter": "python",
   "pygments_lexer": "ipython3",
   "version": "3.8.8"
  }
 },
 "nbformat": 4,
 "nbformat_minor": 4
}
