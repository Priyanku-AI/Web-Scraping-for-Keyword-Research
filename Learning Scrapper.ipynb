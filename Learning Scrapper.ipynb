{
 "cells": [
  {
   "cell_type": "code",
   "execution_count": 11,
   "id": "5a31a6f0",
   "metadata": {},
   "outputs": [
    {
     "name": "stdout",
     "output_type": "stream",
     "text": [
      "Company: Airtel\n",
      "Rating: 4.1\n",
      "\n",
      "Company: Empower\n",
      "Rating: 3.7\n",
      "\n",
      "Company: FIS\n",
      "Rating: 3.9\n",
      "\n",
      "Company: Datamatics\n",
      "Rating: 3.6\n",
      "\n",
      "Company: VXI Global Solutions LLC\n",
      "Rating: 3.5\n",
      "\n",
      "Company: Cognizant\n",
      "Rating: 3.9\n",
      "\n",
      "Company: NNE\n",
      "Rating: 3.8\n",
      "\n",
      "Company: JPMorgan Chase Bank\n",
      "Rating: 4.1\n",
      "\n",
      "Company: Persistent\n",
      "Rating: 3.8\n",
      "\n",
      "Company: Genpact\n",
      "Rating: 3.9\n",
      "\n",
      "Company: Accolite Digital\n",
      "Rating: 3.5\n",
      "\n",
      "Company: Capgemini\n",
      "Rating: 3.9\n",
      "\n"
     ]
    }
   ],
   "source": [
    "from selenium import webdriver\n",
    "from bs4 import BeautifulSoup\n",
    "\n",
    "# Initialize the Chrome webdriver\n",
    "driver = webdriver.Chrome()\n",
    "\n",
    "# Open the URL\n",
    "driver.get('https://www.naukri.com/')\n",
    "\n",
    "# Get the page source after some delay (adjust the delay as needed)\n",
    "import time\n",
    "time.sleep(5)  # Wait for 5 seconds for the page to load\n",
    "\n",
    "# Parsing the HTML\n",
    "soup = BeautifulSoup(driver.page_source, 'html.parser')\n",
    "\n",
    "# Find all div elements with class 'tuple premium'\n",
    "companies = soup.find_all('div', class_='tuple premium')\n",
    "\n",
    "# Iterate over each company div\n",
    "for company in companies:\n",
    "    # Extract company name from 'data-name' attribute\n",
    "    company_name = company['data-name']\n",
    "\n",
    "    # Extract rating from the span element with class 'rating'\n",
    "    rating = company.find('span', class_='rating').text.strip()\n",
    "\n",
    "    # Print company name and rating\n",
    "    print(\"Company:\", company_name)\n",
    "    print(\"Rating:\", rating)\n",
    "    print()\n",
    "\n",
    "# Close the webdriver\n",
    "driver.quit()"
   ]
  },
  {
   "cell_type": "code",
   "execution_count": null,
   "id": "342b313e",
   "metadata": {},
   "outputs": [],
   "source": []
  },
  {
   "cell_type": "code",
   "execution_count": null,
   "id": "3e221b6b",
   "metadata": {},
   "outputs": [],
   "source": []
  }
 ],
 "metadata": {
  "kernelspec": {
   "display_name": "Python 3",
   "language": "python",
   "name": "python3"
  },
  "language_info": {
   "codemirror_mode": {
    "name": "ipython",
    "version": 3
   },
   "file_extension": ".py",
   "mimetype": "text/x-python",
   "name": "python",
   "nbconvert_exporter": "python",
   "pygments_lexer": "ipython3",
   "version": "3.8.8"
  }
 },
 "nbformat": 4,
 "nbformat_minor": 5
}
